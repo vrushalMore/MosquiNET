{
 "cells": [
  {
   "cell_type": "markdown",
   "metadata": {},
   "source": [
    "## Import Libraries"
   ]
  },
  {
   "cell_type": "code",
   "execution_count": 1,
   "metadata": {},
   "outputs": [],
   "source": [
    "import pandas as pd\n",
    "import numpy as np\n",
    "import matplotlib.pyplot as plt\n",
    "import seaborn as sns"
   ]
  },
  {
   "cell_type": "markdown",
   "metadata": {},
   "source": [
    "## Load Dataset"
   ]
  },
  {
   "cell_type": "code",
   "execution_count": 3,
   "metadata": {},
   "outputs": [],
   "source": [
    "data = pd.read_csv(\"../../data/raw/data.csv\")"
   ]
  },
  {
   "cell_type": "markdown",
   "metadata": {},
   "source": [
    "## Parameter Overview "
   ]
  },
  {
   "cell_type": "markdown",
   "metadata": {},
   "source": [
    "| Parameter              | Description |\n",
    "|------------------------|-------------|\n",
    "| **Area Name**         | Name or identifier of the geographical area. |\n",
    "| **Daily Min Temp (°C)** | Minimum temperature recorded in a day. |\n",
    "| **Daily Max Temp (°C)** | Maximum temperature recorded in a day. |\n",
    "| **Daily Avg Temp (°C)** | Average temperature for the day. |\n",
    "| **Total Precipitation (mm)** | Total rainfall or precipitation in millimeters. |\n",
    "| **Relative Humidity (%)** | Percentage of humidity in the air. |\n",
    "| **Water Bodies (Binary: 0/1)** | Indicates the presence (1) or absence (0) of water bodies in the area. |\n",
    "| **Population Density (people/km²)** | Number of people per square kilometer in the area. |\n",
    "| **Day Length (hours)** | Duration of daylight in hours. |\n",
    "| **Urban / Rural Area (Binary: 0/1)** | Indicates whether the area is urban (1) or rural (0). |\n",
    "| **Forested Area (Binary: 0/1)** | Indicates the presence (1) or absence (0) of forests. |\n",
    "| **Crop Area (Binary: 0/1)** | Indicates whether the area is used for agriculture (1) or not (0). |\n",
    "| **Graze Land Area (Binary: 0/1)** | Indicates whether the area is used for grazing livestock (1) or not (0). |\n",
    "| **Habitable (Binary: 0/1)** | Indicates whether the area is habitable (1) or not (0). |\n"
   ]
  }
 ],
 "metadata": {
  "kernelspec": {
   "display_name": "base",
   "language": "python",
   "name": "python3"
  },
  "language_info": {
   "codemirror_mode": {
    "name": "ipython",
    "version": 3
   },
   "file_extension": ".py",
   "mimetype": "text/x-python",
   "name": "python",
   "nbconvert_exporter": "python",
   "pygments_lexer": "ipython3",
   "version": "3.11.7"
  }
 },
 "nbformat": 4,
 "nbformat_minor": 2
}
